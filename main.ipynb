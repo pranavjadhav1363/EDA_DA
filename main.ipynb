{
 "cells": [
  {
   "cell_type": "markdown",
   "metadata": {},
   "source": [
    "### IMPORTING MODULES"
   ]
  },
  {
   "cell_type": "code",
   "execution_count": 1,
   "metadata": {},
   "outputs": [],
   "source": [
    "import pandas as pd\n",
    "import matplotlib.pyplot as plt\n",
    "from sklearn.linear_model import LinearRegression\n",
    "from sklearn.impute import KNNImputer\n",
    "from itertools import combinations\n",
    "from sklearn.model_selection import train_test_split\n",
    "from sklearn.linear_model import LinearRegression"
   ]
  },
  {
   "cell_type": "markdown",
   "metadata": {},
   "source": [
    "### READING DATA"
   ]
  },
  {
   "cell_type": "code",
   "execution_count": 2,
   "metadata": {},
   "outputs": [
    {
     "data": {
      "text/plain": [
       "Index(['Vehicle', 'Age', 'Mileage', 'Fuel Efficiency', 'Price',\n",
       "       'Recommended buy'],\n",
       "      dtype='object')"
      ]
     },
     "execution_count": 2,
     "metadata": {},
     "output_type": "execute_result"
    }
   ],
   "source": [
    "df =  pd.read_excel('Transport_data.xlsx')\n",
    "df.columns"
   ]
  },
  {
   "cell_type": "markdown",
   "metadata": {},
   "source": [
    "### CHECKING NULL VALUES"
   ]
  },
  {
   "cell_type": "code",
   "execution_count": 3,
   "metadata": {},
   "outputs": [
    {
     "data": {
      "text/plain": [
       "Vehicle            0\n",
       "Age                1\n",
       "Mileage            0\n",
       "Fuel Efficiency    1\n",
       "Price              0\n",
       "Recommended buy    1\n",
       "dtype: int64"
      ]
     },
     "execution_count": 3,
     "metadata": {},
     "output_type": "execute_result"
    }
   ],
   "source": [
    "df.isnull().sum()"
   ]
  },
  {
   "cell_type": "markdown",
   "metadata": {},
   "source": [
    "**We can fill the null values using linear regression imputation for the Attributes \"Age\" And \"Fuel Efficiency\"**"
   ]
  },
  {
   "cell_type": "code",
   "execution_count": 4,
   "metadata": {},
   "outputs": [
    {
     "data": {
      "text/html": [
       "<div>\n",
       "<style scoped>\n",
       "    .dataframe tbody tr th:only-of-type {\n",
       "        vertical-align: middle;\n",
       "    }\n",
       "\n",
       "    .dataframe tbody tr th {\n",
       "        vertical-align: top;\n",
       "    }\n",
       "\n",
       "    .dataframe thead th {\n",
       "        text-align: right;\n",
       "    }\n",
       "</style>\n",
       "<table border=\"1\" class=\"dataframe\">\n",
       "  <thead>\n",
       "    <tr style=\"text-align: right;\">\n",
       "      <th></th>\n",
       "      <th>Age</th>\n",
       "      <th>Mileage</th>\n",
       "      <th>Fuel Efficiency</th>\n",
       "      <th>Price</th>\n",
       "    </tr>\n",
       "  </thead>\n",
       "  <tbody>\n",
       "    <tr>\n",
       "      <th>0</th>\n",
       "      <td>3.000000</td>\n",
       "      <td>30000</td>\n",
       "      <td>15.000000</td>\n",
       "      <td>15000</td>\n",
       "    </tr>\n",
       "    <tr>\n",
       "      <th>1</th>\n",
       "      <td>5.000000</td>\n",
       "      <td>50000</td>\n",
       "      <td>10.580769</td>\n",
       "      <td>12000</td>\n",
       "    </tr>\n",
       "    <tr>\n",
       "      <th>2</th>\n",
       "      <td>1.000000</td>\n",
       "      <td>10000</td>\n",
       "      <td>20.000000</td>\n",
       "      <td>20000</td>\n",
       "    </tr>\n",
       "    <tr>\n",
       "      <th>3</th>\n",
       "      <td>7.000000</td>\n",
       "      <td>70000</td>\n",
       "      <td>10.000000</td>\n",
       "      <td>10000</td>\n",
       "    </tr>\n",
       "    <tr>\n",
       "      <th>4</th>\n",
       "      <td>4.672285</td>\n",
       "      <td>40000</td>\n",
       "      <td>8.000000</td>\n",
       "      <td>25000</td>\n",
       "    </tr>\n",
       "    <tr>\n",
       "      <th>5</th>\n",
       "      <td>3.000000</td>\n",
       "      <td>20000</td>\n",
       "      <td>10.000000</td>\n",
       "      <td>30000</td>\n",
       "    </tr>\n",
       "    <tr>\n",
       "      <th>6</th>\n",
       "      <td>6.000000</td>\n",
       "      <td>60000</td>\n",
       "      <td>5.000000</td>\n",
       "      <td>20000</td>\n",
       "    </tr>\n",
       "    <tr>\n",
       "      <th>7</th>\n",
       "      <td>8.000000</td>\n",
       "      <td>40000</td>\n",
       "      <td>4.000000</td>\n",
       "      <td>15000</td>\n",
       "    </tr>\n",
       "  </tbody>\n",
       "</table>\n",
       "</div>"
      ],
      "text/plain": [
       "        Age  Mileage  Fuel Efficiency  Price\n",
       "0  3.000000    30000        15.000000  15000\n",
       "1  5.000000    50000        10.580769  12000\n",
       "2  1.000000    10000        20.000000  20000\n",
       "3  7.000000    70000        10.000000  10000\n",
       "4  4.672285    40000         8.000000  25000\n",
       "5  3.000000    20000        10.000000  30000\n",
       "6  6.000000    60000         5.000000  20000\n",
       "7  8.000000    40000         4.000000  15000"
      ]
     },
     "execution_count": 4,
     "metadata": {},
     "output_type": "execute_result"
    }
   ],
   "source": [
    "df1 = df.drop(['Vehicle', 'Recommended buy'], axis=1)\n",
    "missing_cols = df1.columns[df1.isnull().any()]\n",
    "complete_cols = df1.columns.difference(missing_cols)\n",
    "for col in missing_cols:\n",
    "    complete_rows = df1.dropna(subset=[col])\n",
    "    incomplete_rows = df1[df1[col].isnull()]\n",
    "    X_train = complete_rows[complete_cols]\n",
    "    y_train = complete_rows[col]\n",
    "    X_test = incomplete_rows[complete_cols]\n",
    "    model = LinearRegression()\n",
    "    model.fit(X_train, y_train)\n",
    "    predicted_values = model.predict(X_test)\n",
    "    df1.loc[df1[col].isnull(), col] = predicted_values\n",
    "\n",
    "df.drop(['Age', 'Mileage', 'Fuel Efficiency', 'Price'], axis=1, inplace=True)\n",
    "\n",
    "df1"
   ]
  },
  {
   "cell_type": "code",
   "execution_count": 5,
   "metadata": {},
   "outputs": [],
   "source": [
    "df2  =pd.concat([df,df1],axis=1)\n",
    "df2\n",
    "df = df2.copy()"
   ]
  },
  {
   "cell_type": "markdown",
   "metadata": {},
   "source": [
    "### NOW WE WILL PREDICT THE MISSING  VALUE IN \"Recommended buy\"\tCOLUMN USING K- NEAREST NEIGHBOUR"
   ]
  },
  {
   "cell_type": "code",
   "execution_count": 6,
   "metadata": {},
   "outputs": [
    {
     "name": "stdout",
     "output_type": "stream",
     "text": [
      "  Vehicle Recommended buy       Age  Mileage  Fuel Efficiency    Price\n",
      "0   Car A             Yes  3.000000  30000.0        15.000000  15000.0\n",
      "1   Car B              No  5.000000  50000.0        10.580769  12000.0\n",
      "2   Car C             Yes  1.000000  10000.0        20.000000  20000.0\n",
      "3   Car D              No  7.000000  70000.0        10.000000  10000.0\n",
      "4   Car E              No  4.672285  40000.0         8.000000  25000.0\n",
      "5   Car F             Yes  3.000000  20000.0        10.000000  30000.0\n",
      "6   Car G              No  6.000000  60000.0         5.000000  20000.0\n",
      "7   Car H              No  8.000000  40000.0         4.000000  15000.0\n"
     ]
    }
   ],
   "source": [
    "numeric_cols = ['Age', 'Mileage', 'Fuel Efficiency', 'Price']\n",
    "imputer = KNNImputer(n_neighbors=3)\n",
    "df[numeric_cols] = imputer.fit_transform(df[numeric_cols])\n",
    "df['Recommended buy'] = df['Recommended buy'].fillna(\n",
    "df['Recommended buy'].mode()[0])\n",
    "print(df)"
   ]
  },
  {
   "cell_type": "markdown",
   "metadata": {},
   "source": [
    "### Outlier Analysis"
   ]
  },
  {
   "cell_type": "markdown",
   "metadata": {},
   "source": [
    "#### Using Box-Plot Method"
   ]
  },
  {
   "cell_type": "code",
   "execution_count": 7,
   "metadata": {},
   "outputs": [
    {
     "data": {
      "image/png": "[encoded data removed]",
      "text/plain": [
       "<Figure size 640x480 with 1 Axes>"
      ]
     },
     "metadata": {},
     "output_type": "display_data"
    },
    {
     "data": {
      "image/png": "[encoded data removed]",
      "text/plain": [
       "<Figure size 640x480 with 1 Axes>"
      ]
     },
     "metadata": {},
     "output_type": "display_data"
    },
    {
     "data": {
      "image/png": "[encoded data removed]",
      "text/plain": [
       "<Figure size 640x480 with 1 Axes>"
      ]
     },
     "metadata": {},
     "output_type": "display_data"
    },
    {
     "data": {
      "image/png": "[encoded data removed]",
      "text/plain": [
       "<Figure size 640x480 with 1 Axes>"
      ]
     },
     "metadata": {},
     "output_type": "display_data"
    }
   ],
   "source": [
    "for i in numeric_cols:\n",
    "    plt.boxplot(df[i])\n",
    "    plt.xlabel(i)\n",
    "    plt.show()"
   ]
  },
  {
   "cell_type": "markdown",
   "metadata": {},
   "source": [
    "#### Using IQR method "
   ]
  },
  {
   "cell_type": "code",
   "execution_count": 8,
   "metadata": {},
   "outputs": [
    {
     "name": "stdout",
     "output_type": "stream",
     "text": [
      "Outliers:\n",
      "  Vehicle Recommended buy  Age  Mileage  Fuel Efficiency    Price\n",
      "2   Car C             Yes  1.0  10000.0             20.0  20000.0\n"
     ]
    }
   ],
   "source": [
    "numeric_cols = ['Age', 'Mileage', 'Fuel Efficiency', 'Price']\n",
    "Q1 = df[numeric_cols].quantile(0.25)\n",
    "Q3 = df[numeric_cols].quantile(0.75)\n",
    "IQR = Q3 - Q1\n",
    "lower_bound = Q1 - 1.5 * IQR\n",
    "upper_bound = Q3 + 1.5 * IQR\n",
    "outliers = df[((df[numeric_cols] < lower_bound) | (\n",
    "    df[numeric_cols] > upper_bound)).any(axis=1)]\n",
    "\n",
    "print(\"Outliers:\")\n",
    "print(outliers)"
   ]
  },
  {
   "cell_type": "markdown",
   "metadata": {},
   "source": [
    "#### Using DBSCAN Method"
   ]
  },
  {
   "cell_type": "code",
   "execution_count": 9,
   "metadata": {},
   "outputs": [],
   "source": [
    "import numpy as np\n",
    "import matplotlib.pyplot as plt\n",
    "from sklearn.cluster import DBSCAN"
   ]
  },
  {
   "cell_type": "code",
   "execution_count": 15,
   "metadata": {},
   "outputs": [
    {
     "data": {
      "image/png": "[encoded data removed]",
      "text/plain": [
       "<Figure size 800x600 with 2 Axes>"
      ]
     },
     "metadata": {},
     "output_type": "display_data"
    }
   ],
   "source": [
    "age_fuel_efficiency = df[['Age','Fuel Efficiency']].values\n",
    "min_points = 5\n",
    "epsilon = 5.57\n",
    "# Apply DBSCAN\n",
    "dbscan = DBSCAN(eps=epsilon, min_samples=min_points)\n",
    "clusters = dbscan.fit_predict(age_fuel_efficiency)\n",
    "plt.figure(figsize=(8, 6))\n",
    "plt.scatter(age_fuel_efficiency[:, 0], age_fuel_efficiency[:, 1], c=clusters, cmap='RdYlGn', s=50)\n",
    "plt.xlabel('Vehicle Age (years)')\n",
    "plt.ylabel('Fuel Efficiency (miles per gallon)')\n",
    "plt.title('DBSCAN Clustering')\n",
    "plt.colorbar(label='Cluster')\n",
    "plt.grid(True)\n",
    "plt.show()"
   ]
  },
  {
   "cell_type": "markdown",
   "metadata": {},
   "source": [
    "### Feature Selection"
   ]
  },
  {
   "cell_type": "markdown",
   "metadata": {},
   "source": [
    "#### Using Pearson Correlation Coefficient"
   ]
  },
  {
   "cell_type": "code",
   "execution_count": 18,
   "metadata": {},
   "outputs": [
    {
     "name": "stdout",
     "output_type": "stream",
     "text": [
      "Correlation Matrix:\n",
      "                      Age   Mileage  Fuel Efficiency     Price\n",
      "Age              1.000000  0.803126        -0.850069 -0.462247\n",
      "Mileage          0.803126  1.000000        -0.609792 -0.561783\n",
      "Fuel Efficiency -0.850069 -0.609792         1.000000 -0.022215\n",
      "Price           -0.462247 -0.561783        -0.022215  1.000000\n"
     ]
    }
   ],
   "source": [
    "features = ['Age', 'Mileage', 'Fuel Efficiency',\"Price\"]\n",
    "correlation_matrix = df[features].corr()\n",
    "print(\"Correlation Matrix:\")\n",
    "print(correlation_matrix)"
   ]
  },
  {
   "cell_type": "markdown",
   "metadata": {},
   "source": [
    "#### Using Forward Feature Selection"
   ]
  },
  {
   "cell_type": "code",
   "execution_count": 11,
   "metadata": {},
   "outputs": [
    {
     "name": "stdout",
     "output_type": "stream",
     "text": [
      "Iteration 1: Features ('Age',), R-squared: 0.0784\n",
      "Iteration 2: Features ('Mileage',), R-squared: 0.2017\n",
      "Iteration 3: Features ('Fuel Efficiency',), R-squared: -0.1512\n",
      "Iteration 4: Features ('Age', 'Mileage'), R-squared: 0.1731\n",
      "Iteration 5: Features ('Age', 'Fuel Efficiency'), R-squared: 0.7650\n",
      "Iteration 6: Features ('Mileage', 'Fuel Efficiency'), R-squared: 0.4865\n",
      "Iteration 7: Features ('Age', 'Mileage', 'Fuel Efficiency'), R-squared: 0.7882\n",
      "\n",
      "Best Features:\n",
      "('Age', 'Mileage', 'Fuel Efficiency')\n",
      "Best R-squared: 0.7882\n"
     ]
    }
   ],
   "source": [
    "import pandas as pd\n",
    "X = df[['Age', 'Mileage', 'Fuel Efficiency']]  \n",
    "y = df['Price']  \n",
    "X_train, X_test, y_train, y_test = train_test_split(\n",
    "    X, y, test_size=0.2, random_state=42)\n",
    "all_scores = {}\n",
    "for i in range(1, len(X.columns)+1):\n",
    "    for combo in combinations(X.columns, i):\n",
    "        model = LinearRegression()\n",
    "        model.fit(X_train[list(combo)], y_train)\n",
    "        score = model.score(X_test[list(combo)], y_test)\n",
    "        all_scores[combo] = score\n",
    "        print(\n",
    "            f\"Iteration {len(all_scores)}: Features {combo}, R-squared: {score:.4f}\")\n",
    "best_features = max(all_scores, key=all_scores.get)\n",
    "best_score = all_scores[best_features]\n",
    "print(\"\\nBest Features:\")\n",
    "print(best_features)\n",
    "print(f\"Best R-squared: {best_score:.4f}\")"
   ]
  },
  {
   "cell_type": "markdown",
   "metadata": {},
   "source": [
    "### Dimensionality Reduction"
   ]
  },
  {
   "cell_type": "markdown",
   "metadata": {},
   "source": [
    "#### Using Singular Value Decomposition"
   ]
  },
  {
   "cell_type": "code",
   "execution_count": 14,
   "metadata": {},
   "outputs": [
    {
     "name": "stdout",
     "output_type": "stream",
     "text": [
      "Original DataFrame:\n",
      "        Age  Fuel Efficiency\n",
      "0  3.000000        15.000000\n",
      "1  5.000000        10.580769\n",
      "2  1.000000        20.000000\n",
      "3  7.000000        10.000000\n",
      "4  4.672285         8.000000\n",
      "\n",
      "DataFrame after SVD:\n",
      "   Component 1  Component 2\n",
      "0     1.238245     0.120866\n",
      "1    -0.057609     0.132626\n",
      "2     2.618475     0.193483\n",
      "3    -0.795792     0.702056\n",
      "4    -0.325424    -0.349452\n"
     ]
    }
   ],
   "source": [
    "import pandas as pd\n",
    "from sklearn.decomposition import TruncatedSVD\n",
    "from sklearn.preprocessing import StandardScaler\n",
    "features = ['Age', 'Fuel Efficiency']\n",
    "scaler = StandardScaler()\n",
    "X_scaled = scaler.fit_transform(df[features])\n",
    "svd = TruncatedSVD(n_components=2) \n",
    "X_svd = svd.fit_transform(X_scaled)\n",
    "df_svd = pd.DataFrame(data=X_svd, columns=['Component 1', 'Component 2'])\n",
    "df_final_svd = pd.concat([df, df_svd], axis=1)\n",
    "print(\"Original DataFrame:\")\n",
    "print(df[features].head())\n",
    "print(\"\\nDataFrame after SVD:\")\n",
    "print(df_final_svd[['Component 1', 'Component 2']].head())"
   ]
  }
 ],
 "metadata": {
  "kernelspec": {
   "display_name": "Python 3 (ipykernel)",
   "language": "python",
   "name": "python3"
  },
  "language_info": {
   "codemirror_mode": {
    "name": "ipython",
    "version": 3
   },
   "file_extension": ".py",
   "mimetype": "text/x-python",
   "name": "python",
   "nbconvert_exporter": "python",
   "pygments_lexer": "ipython3",
   "version": "3.11.5"
  }
 },
 "nbformat": 4,
 "nbformat_minor": 2
}
